{
 "cells": [
  {
   "cell_type": "markdown",
   "metadata": {},
   "source": [
    "# 变量作用域\n",
    "- LEGB 原则\n",
    "    - L(Local) 局部作用域\n",
    "    - E(Enclosing function locale) 外部嵌套函数作用域\n",
    "    - G(Global module) 函数定义所在模块作用域\n",
    "    - B(Buidlin) python内置模块的作用域"
   ]
  },
  {
   "cell_type": "markdown",
   "metadata": {},
   "source": [
    "## 提升提升局部变量为全局变量\n",
    "- 使用global"
   ]
  },
  {
   "cell_type": "code",
   "execution_count": 2,
   "metadata": {},
   "outputs": [
    {
     "name": "stdout",
     "output_type": "stream",
     "text": [
      "100\n"
     ]
    }
   ],
   "source": [
    "def fun():\n",
    "    global a1\n",
    "    a1 = 100\n",
    "    \n",
    "fun()\n",
    "print(a1)"
   ]
  },
  {
   "cell_type": "markdown",
   "metadata": {},
   "source": [
    "# globals和locals函数\n",
    "- 可以通过globals和locals显示出全局变量和局部变量\n"
   ]
  },
  {
   "cell_type": "code",
   "execution_count": 15,
   "metadata": {},
   "outputs": [
    {
     "name": "stdout",
     "output_type": "stream",
     "text": [
      "{'a': 1, 'b': 2}\n"
     ]
    }
   ],
   "source": [
    "# globals和locals叫做内建函数\n",
    "a = 1\n",
    "b = 2\n",
    "def fund(a,b):\n",
    "   # print(globals())\n",
    "    print(locals())\n",
    "    \n",
    "fund(a,b)"
   ]
  },
  {
   "cell_type": "markdown",
   "metadata": {},
   "source": [
    "# eval()函数\n",
    "- 把一个字符串当成表达式来执行，返回表达式执行后的结果\n",
    "- 语法：\n",
    "    变量=eval(‘x+y’)\n",
    "    等价：变量=x+y\n",
    "    \n",
    "# exec()函数\n",
    "- 功能跟eval功能类似，把字符串当代码执行，但是不返回结果"
   ]
  },
  {
   "cell_type": "code",
   "execution_count": 16,
   "metadata": {},
   "outputs": [
    {
     "name": "stdout",
     "output_type": "stream",
     "text": [
      "300\n",
      "300\n"
     ]
    }
   ],
   "source": [
    "x = 100\n",
    "y = 200\n",
    "\n",
    "z1 = x + y\n",
    "# z = x +y\n",
    "z2 = eval(\"x+y\")\n",
    "print(z1)\n",
    "print(z2)"
   ]
  }
 ],
 "metadata": {
  "kernelspec": {
   "display_name": "Python 3",
   "language": "python",
   "name": "python3"
  },
  "language_info": {
   "codemirror_mode": {
    "name": "ipython",
    "version": 3
   },
   "file_extension": ".py",
   "mimetype": "text/x-python",
   "name": "python",
   "nbconvert_exporter": "python",
   "pygments_lexer": "ipython3",
   "version": "3.7.0"
  }
 },
 "nbformat": 4,
 "nbformat_minor": 2
}
