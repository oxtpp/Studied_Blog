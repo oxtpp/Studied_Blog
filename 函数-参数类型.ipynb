{
 "cells": [
  {
   "cell_type": "markdown",
   "metadata": {},
   "source": [
    "# python定义一个函数\n",
    "- 1、def关键字，后面跟一个空格\n",
    "- 2、别用大驼峰法定义函数名，大驼峰命名只给类用\n",
    "- 3、后面括号和冒号不能省略，括号内可以有参数\n",
    "- 4、函数内的所有代码缩进"
   ]
  },
  {
   "cell_type": "markdown",
   "metadata": {},
   "source": [
    "# 参数详解\n",
    "- 参数分类\n",
    "    - 普通参数/位置参数\n",
    "    - 默认参数 \n",
    "    - 关键字参数\n",
    "    - 收集参数"
   ]
  },
  {
   "cell_type": "code",
   "execution_count": 5,
   "metadata": {},
   "outputs": [
    {
     "name": "stdout",
     "output_type": "stream",
     "text": [
      "1 2\n",
      "100\n"
     ]
    }
   ],
   "source": [
    "# 默认参数的案例\n",
    "def default_para(one, two ,three = 100):\n",
    "    print(one , two)\n",
    "    print(three)\n",
    "    return None\n",
    "default_para(1, 2 )"
   ]
  },
  {
   "cell_type": "code",
   "execution_count": 1,
   "metadata": {},
   "outputs": [
    {
     "name": "stdout",
     "output_type": "stream",
     "text": [
      "1 2 3\n"
     ]
    }
   ],
   "source": [
    "# 关键字参数\n",
    "def keys_para(one ,two ,three):\n",
    "    print(one ,two, three)\n",
    "    return None\n",
    "keys_para(three=3, two=2, one=1)"
   ]
  },
  {
   "cell_type": "markdown",
   "metadata": {},
   "source": [
    "## 关键字参数\n",
    "- 比较麻烦，但也有好处：\n",
    "- 不易混淆，一般实参和形参只是按照位置对应，容易出错\n",
    "- 使用方法和默认参数类似 "
   ]
  },
  {
   "cell_type": "markdown",
   "metadata": {},
   "source": [
    "## 收集参数\n",
    "- -形参名args不是必须这么写，推荐是用args\n",
    "- 前置和指针一样要加上*\n",
    "- 收集参数可以和其他参数共存"
   ]
  },
  {
   "cell_type": "code",
   "execution_count": 7,
   "metadata": {},
   "outputs": [
    {
     "name": "stdout",
     "output_type": "stream",
     "text": [
      "Hello\t大家好，我自我介绍以下，简单说\n",
      "<class 'tuple'>\n",
      "yangyu\n",
      "18\n",
      "湛江\n",
      "single\n",
      "Hello\t大家好，我自我介绍以下，简单说\n",
      "<class 'tuple'>\n",
      "周大神\n"
     ]
    }
   ],
   "source": [
    "#收集参数代码\n",
    "#函数模拟一个学生进行自我介绍，但具体内容不清楚\n",
    "#args把它看作一个list\n",
    "def  stu(*args):\n",
    "    print(\"Hello\t大家好，我自我介绍以下，简单说\")\n",
    "  #type函数作用是检测变量的类型\n",
    "    print(type(args))\n",
    "    for item in args:\n",
    "        print(item)\n",
    "\n",
    "stu(\"yangyu\",18,\"湛江\",\"single\")\n",
    "stu(\"周大神\")"
   ]
  },
  {
   "cell_type": "markdown",
   "metadata": {},
   "source": [
    "## 收集参数---之关键字收集参数\n",
    "- 把关键字参数按字典格式存入收集参数\n",
    "- 语法：\n",
    "     def func(**kwargs):\n",
    "           func_body\n",
    "   - 调用：\n",
    "   - func(k1=v1,k2=v2,k3=v3......)\n",
    "        \n",
    "   - 调用的时候，把多余的关键字参数放入kwargs\n",
    "   - 访问kwargs需要按字典格式访问\n",
    "   "
   ]
  },
  {
   "cell_type": "code",
   "execution_count": 24,
   "metadata": {},
   "outputs": [
    {
     "name": "stdout",
     "output_type": "stream",
     "text": [
      "hello,大家好，这是自我介绍\n",
      "<class 'dict'>\n",
      "name ----- yangyuy\n",
      "age ----- 19\n",
      "addr ----- 湛江西\n"
     ]
    }
   ],
   "source": [
    "def stu(**kwargs):\n",
    "#在函数体内对于kwargs的使用不用带星号\n",
    "    print(\"hello,大家好，这是自我介绍\")\n",
    "    print(type(kwargs))\n",
    "#python3的字典访问\n",
    "    for  k,v in kwargs.items():\n",
    "        print(k,\"-----\",v)\n",
    "#调用：\n",
    "stu(name=\"yangyuy\",age=19,addr=\"湛江西\")"
   ]
  },
  {
   "cell_type": "markdown",
   "metadata": {},
   "source": [
    "## 收集参数混合调用的顺序问题\n",
    "- 收集参数，关键字参数，普通参数可以以混合使用\n",
    "- 使用规则就是，普通参数和关键字参数优先\n",
    "- 定义的时候一般顺序：普通参数、关键字参数、收集参数tuple、收集参数dict"
   ]
  },
  {
   "cell_type": "code",
   "execution_count": 41,
   "metadata": {},
   "outputs": [
    {
     "name": "stdout",
     "output_type": "stream",
     "text": [
      "大家好\n",
      "我叫yu hua ju，我今年18大了\n",
      "我的爱好是SexLove\n",
      "********************\n",
      "##############################\n",
      "大家好\n",
      "我叫yu hua ju，我今年18大了\n",
      "我的爱好是SexLove\n",
      "********************\n",
      "hobby1\n",
      "hobby2\n",
      "##############################\n",
      "bo --- 123\n",
      "cup --- abc\n"
     ]
    }
   ],
   "source": [
    "# 收集参数混合调用案例\n",
    "# stu模拟学生的自我介绍\n",
    "def stu(name, age, *args, hobby = \"没有\", **kwargs):\n",
    "    print(\"大家好\")\n",
    "    print(\"我叫{0}，我今年{1}大了\".format(name,age))\n",
    "    if hobby == \"没有\":\n",
    "        print(\"Sorry,我没有爱好\")\n",
    "    else:\n",
    "        print(\"我的爱好是{0}\".format(hobby))\n",
    "    print(\"*\"*20)\n",
    "    \n",
    "    for i in args:\n",
    "        print(i)\n",
    "    print(\"#\"*30)\n",
    "    \n",
    "    for k,v in kwargs.items():\n",
    "        print(k,\"---\",v)\n",
    "\n",
    "# 开始调用函数\n",
    "name = \"yu hua ju\"\n",
    "age =18\n",
    "stu(name,age,hobby=\"SexLove\")\n",
    "\n",
    "stu(name,age,\"hobby1\",\"hobby2\",hobby=\"SexLove\",bo = \"123\",cup = \"abc\")"
   ]
  },
  {
   "cell_type": "markdown",
   "metadata": {},
   "source": [
    "## 收集参数的解包问题\n",
    "- 把参数放入list或者字典中，直接把list/dict中的值放入收集参数中\n",
    "- 语法：参考案例"
   ]
  },
  {
   "cell_type": "code",
   "execution_count": 6,
   "metadata": {},
   "outputs": [
    {
     "name": "stdout",
     "output_type": "stream",
     "text": [
      "one two three\n",
      "19\n",
      "200\n",
      "Fuckingshow\n",
      "------------------------------\n",
      "['hahha', 19, 200, 'diaoni']\n",
      "hahha\n",
      "19\n",
      "200\n",
      "diaoni\n"
     ]
    }
   ],
   "source": [
    "def stu(*args):\n",
    "    for i in args:\n",
    "        print(i)\n",
    "    return None\n",
    "\n",
    "stu(\"one two three\",19,200,\"Fuckingshow\")\n",
    "print(\"-\"*30)\n",
    "l2 = [\"hahha\",19,200,\"diaoni\"]\n",
    "\n",
    "# 此时，args的表示形式是字典内的一个list类型的元素，即args = ([\"hahha\",19,200,\"diaoni\"],)\n",
    "# 此时的调用，我们就需要解包符号，即调用的时候前面加一个星号\n",
    "\n",
    "stu(l2)\n",
    "stu(*l2)\n"
   ]
  },
  {
   "cell_type": "markdown",
   "metadata": {},
   "source": [
    "# 函数文档\n",
    "- 文档的写法:\n",
    "    - 函数内部开始的一行使用三字符串定义符\n",
    "    - 一般具有特定格式\n",
    "- 文档查看\n",
    "    - 使用help函数，例如help(fund)\n",
    "    - 使用__doc__，参考案例\n",
    "    "
   ]
  },
  {
   "cell_type": "code",
   "execution_count": 8,
   "metadata": {},
   "outputs": [],
   "source": [
    "# 文档案例\n",
    "# 函数stu是模拟一个学生自我介绍的内容\n",
    "def stu(name, age, *args):\n",
    "    '''\n",
    "    第一行说明\n",
    "    第二行说明\n",
    "    第三行说明\n",
    "    '''\n",
    "    print(\"This is hansu stu\")\n",
    "    "
   ]
  },
  {
   "cell_type": "code",
   "execution_count": 11,
   "metadata": {},
   "outputs": [
    {
     "name": "stdout",
     "output_type": "stream",
     "text": [
      "Help on function stu in module __main__:\n",
      "\n",
      "stu(name, age, *args)\n",
      "    第一行说明\n",
      "    第二行说明\n",
      "    第三行说明\n",
      "\n"
     ]
    },
    {
     "data": {
      "text/plain": [
       "'\\n    第一行说明\\n    第二行说明\\n    第三行说明\\n    '"
      ]
     },
     "execution_count": 11,
     "metadata": {},
     "output_type": "execute_result"
    }
   ],
   "source": [
    "# 查看函数文档\n",
    "help(stu)\n",
    "stu.__doc__"
   ]
  }
 ],
 "metadata": {
  "kernelspec": {
   "display_name": "Python 3",
   "language": "python",
   "name": "python3"
  },
  "language_info": {
   "codemirror_mode": {
    "name": "ipython",
    "version": 3
   },
   "file_extension": ".py",
   "mimetype": "text/x-python",
   "name": "python",
   "nbconvert_exporter": "python",
   "pygments_lexer": "ipython3",
   "version": "3.7.0"
  }
 },
 "nbformat": 4,
 "nbformat_minor": 2
}
