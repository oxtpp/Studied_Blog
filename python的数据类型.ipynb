{
 "cells": [
  {
   "cell_type": "markdown",
   "metadata": {},
   "source": [
    "# 主要内容\n",
    "- 坚持写blog\n",
    "- 继续编辑"
   ]
  },
  {
   "cell_type": "code",
   "execution_count": 1,
   "metadata": {},
   "outputs": [],
   "source": [
    "print(\"hello world\")\n",
    "a=[1,2,3,4]\n"
   ]
  },
  {
   "cell_type": "markdown",
   "metadata": {},
   "source": [
    "# Markdown模式\n",
    "- 命令模式 按Esc\n",
    "- 按M键\n",
    "- D,D删除多余行\n",
    "- shift+M合并行\n",
    "\n"
   ]
  },
  {
   "cell_type": "markdown",
   "metadata": {},
   "source": [
    "# python的数据类型\n",
    "- 数字 number\n",
    "    - python中数字类似的变量与位数无关\n",
    "    - 二进制0b开头，B为binary的缩写\n",
    "    - 八进制0o开头，O为octonary的缩写\n",
    "    - 十六进制0x开头，X为十六进制\n",
    "    \n",
    "    \n",
    "- 字符 string\n",
    "- 队列 list\n",
    "- 元组 tuple\n",
    "- 字典 dict\n",
    "- 集合 set"
   ]
  },
  {
   "cell_type": "code",
   "execution_count": 9,
   "metadata": {},
   "outputs": [
    {
     "name": "stdout",
     "output_type": "stream",
     "text": [
      "['o', 'u', ' ', 'x', 'i', 'n', ' ', 't', 'u']\n",
      "<class 'list'>\n",
      "['ou xin tu']\n"
     ]
    }
   ],
   "source": [
    "# list创建的特例演示\n",
    "\n",
    "s = \"ou xin tu\"\n",
    "\n",
    "# 只想创建一个只包含s一个字符串的列表\n",
    "L1 = list(s)\n",
    "\n",
    "print(L1)\n",
    "print(type(L1))\n",
    "\n",
    "# 这种情况一般用L1 = [s]\n",
    "L1 = [s]\n",
    "print(L1)"
   ]
  },
  {
   "cell_type": "markdown",
   "metadata": {},
   "source": [
    "# 列表的常见操作\n",
    "- 切片操作\n",
    "    - 对列表任意一段的截取\n",
    "    - 截取后，创建一个新的列表\n",
    "    - name[起始位置:结束位置:步长],步长可以控制增长幅度，默认幅度是1，是连续的；\n",
    "    - 一组有顺序的数据组合\n",
    "\n",
    "    - 也可以使用list()，l3=list(2,5,8)\n",
    "    - print(l3[::2])，打印l3内所有的值，隔2个值；\n"
   ]
  },
  {
   "cell_type": "code",
   "execution_count": 9,
   "metadata": {},
   "outputs": [
    {
     "name": "stdout",
     "output_type": "stream",
     "text": [
      "2803167489768\n",
      "2803190454760\n",
      "1\n",
      "2\n",
      "3\n",
      "4\n",
      "5\n",
      "6\n"
     ]
    }
   ],
   "source": [
    "# 下面结果说明切片后生成的是一个全新的列表\n",
    "# 通过内置函数id，可以判断变量是否是同一块内存\n",
    "L1 = (1,2,3,4,5,6)\n",
    "L2 = L1[1:6]\n",
    "print(id(L1))\n",
    "print(id(L2))\n",
    "for l in L1:\n",
    "    print(l)"
   ]
  },
  {
   "cell_type": "code",
   "execution_count": 25,
   "metadata": {},
   "outputs": [
    {
     "name": "stdout",
     "output_type": "stream",
     "text": [
      "()\n",
      "(1, 2, 3, 4, 5)\n",
      "(6, 5, 4, 3, 2, 1)\n"
     ]
    }
   ],
   "source": [
    "# 下标值，增长幅度可以为负数，顺序从右往左\n",
    "# 数组最后一个数字的下标是-1\n",
    "# 分片之负数下标\n",
    "\n",
    "# 下面显示的是为空，因为默认分片总是从左往右截取，即正常情况分片左边的值一定小于右边的值\n",
    "print(L1[-1:-4])\n",
    "print(L1[-7:-1])\n",
    "# 如果分片左边的值一定比右边大，则步长参数需要使用负数\n",
    "# 直接让list正反颠倒\n",
    "print(L1[-1:-7:-1])"
   ]
  },
  {
   "cell_type": "markdown",
   "metadata": {},
   "source": [
    "# tuple(元组)\n",
    "    - 可以理解成一个不允许更改的列表\n",
    "    "
   ]
  },
  {
   "cell_type": "code",
   "execution_count": 1,
   "metadata": {},
   "outputs": [
    {
     "name": "stdout",
     "output_type": "stream",
     "text": [
      "<class 'tuple'>\n",
      "<class 'int'>\n",
      "<class 'tuple'>\n",
      "<class 'tuple'>\n",
      "<class 'tuple'>\n",
      "<class 'tuple'>\n",
      "()\n",
      "(1, 2, 3, 'yu huaju')\n",
      "[1, 2, 3, 'yu huaju']\n"
     ]
    }
   ],
   "source": [
    "# tuple的创建\n",
    "\n",
    "# 1.直接用小括号\n",
    "ta = ()\n",
    "print(type(ta))\n",
    "# 当用小括号创建一个元素的tuple的时候\n",
    "tb = (100)\n",
    "print(type(tb)) #特例，变量类型会变成数据类型\n",
    "tc = (100,)\n",
    "print(type(tc))\n",
    "td = (100,200,300)\n",
    "print(type(td))\n",
    "\n",
    "\n",
    "# 2.直接用逗号\n",
    "ta = 100,\n",
    "print(type(ta))\n",
    "tb = 100, 200, 300, #后面可以跟逗号\n",
    "print(type(tb))\n",
    "\n",
    "# 3.使用tuple定义\n",
    "ta = tuple()\n",
    "print(ta)\n",
    "li = [1,2,3, \"yu huaju\"] #要求tuple参数必须可迭代\n",
    "tb = tuple(li)\n",
    "print(tb)\n",
    "print(li)"
   ]
  },
  {
   "cell_type": "markdown",
   "metadata": {},
   "source": [
    "### tuple其余特征跟list基本一致\n",
    "- 有序\n",
    "- 可以访问不可以被修改\n",
    "- 元素可以是任意类型"
   ]
  },
  {
   "cell_type": "code",
   "execution_count": 8,
   "metadata": {},
   "outputs": [
    {
     "name": "stdout",
     "output_type": "stream",
     "text": [
      "(10, 20, 30)\n",
      "10\n",
      "20\n",
      "30\n",
      "('i', 'love', 'mengyi')\n",
      "i\n",
      "love\n",
      "mengyi\n",
      "(100, 200, 300)\n",
      "100\n",
      "200\n",
      "300\n",
      "10 20 30\n",
      "i love mengyi\n",
      "100 200 300\n"
     ]
    }
   ],
   "source": [
    "ta = ((10,20,30),(\"i\", \"love\", \"mengyi\"),(100,200,300))\n",
    "# 嵌套元组的访问\n",
    "# 1.双层循环访问\n",
    "for i in ta:\n",
    "    print(i)\n",
    "    for j in i:\n",
    "        print(j)\n",
    "        \n",
    "# 2.单层循环访问,i、j、j对应了元组内的三个值\n",
    "for i,j,k in ta:\n",
    "    print(i,j,k)"
   ]
  },
  {
   "cell_type": "markdown",
   "metadata": {},
   "source": [
    "# 集合\n",
    "- 跟数学中的集合概念一致\n",
    "- 内容无序 + 内容不重复"
   ]
  },
  {
   "cell_type": "code",
   "execution_count": 18,
   "metadata": {},
   "outputs": [
    {
     "name": "stdout",
     "output_type": "stream",
     "text": [
      "set()\n",
      "{1, 2, 3, 4, 5, 23, 123}\n",
      "{1, 2, 3, 4, 5}\n",
      "{0, 1, 2, 3, 4, 5, 6, 7, 8, 9}\n",
      "{0, 2, 4, 6, 8}\n",
      "{0, 1, 64, 4, 36, 9, 16, 49, 81, 25}\n",
      "{0, 1, 2, 3, 4, 5, 6, 7, 8, 9, 10, 12, 14, 15, 16, 18, 20, 21, 24, 25, 27, 28, 30, 32, 35, 36, 40, 42, 45, 48, 49, 54, 56, 63, 64, 72, 81}\n"
     ]
    }
   ],
   "source": [
    "# 集合的定义\n",
    "\n",
    "# 1.通过set关键字\n",
    "sa = set()\n",
    "print(sa)\n",
    "\n",
    "li = [1,2,3,4,5,123,1,23,4,5,123]\n",
    "sb = set(li)\n",
    "print(sb)\n",
    "\n",
    "# 2.使用大括号\n",
    "sc = {1,2,3,4,1,2,3,4,5}\n",
    "print(sc)\n",
    "\n",
    "# 集合的生成式\n",
    "sa = range(10)\n",
    "# 利用sa生成一个sb\n",
    "sb = {i for i in sa}\n",
    "print(sb)\n",
    "\n",
    "sc = {i for i in sb if i % 2 == 0}\n",
    "print(sc)\n",
    "\n",
    "# 双重for循环\n",
    "# 把sa中的每一个元素的平方生成一个新的集合\n",
    "# 1.用一个for\n",
    "sd = {i ** 2 for i in sa}\n",
    "print(sd)\n",
    "\n",
    "# 使用用两个for\n",
    "se = {m*n for m in sa for n in sa}\n",
    "print(se)"
   ]
  },
  {
   "cell_type": "code",
   "execution_count": 30,
   "metadata": {},
   "outputs": [
    {
     "name": "stdout",
     "output_type": "stream",
     "text": [
      "{4, 5, 6}\n",
      "{1, 2, 3}\n",
      "{1, 2, 3}\n",
      "{1, 2, 3, 4, 5, 6, 7, 8, 9}\n"
     ]
    }
   ],
   "source": [
    "# 集合的数学操作\n",
    "# intersection：交集\n",
    "sa = {1,2,3,4,5,6,}\n",
    "sb = {4,5,6,7,8,9}\n",
    "# sa和sb的交集\n",
    "print(sa.intersection(sb))\n",
    "\n",
    "# difference差集\n",
    "print(sa.difference(sb))\n",
    "# 差集的另一种表示\n",
    "print(sa-sb)\n",
    "\n",
    "# union: 并集\n",
    "print(sa.union(sb))"
   ]
  },
  {
   "cell_type": "markdown",
   "metadata": {},
   "source": [
    "# frozenset冰冻集合\n",
    "- 不允许修改的集合"
   ]
  },
  {
   "cell_type": "code",
   "execution_count": 32,
   "metadata": {},
   "outputs": [
    {
     "name": "stdout",
     "output_type": "stream",
     "text": [
      "{1, 2, 3, 4, 5, 6}\n",
      "frozenset({1, 2, 3, 4, 5, 6})\n"
     ]
    }
   ],
   "source": [
    "# 案例\n",
    "print(sa)\n",
    "sb = frozenset(sa)\n",
    "print(sb)"
   ]
  },
  {
   "cell_type": "markdown",
   "metadata": {},
   "source": [
    "# 删除元素(“删”del，pop，remove,discard)\n",
    "- 列表元素的常用删除方法有：\n",
    "- del：根据下标进行删除\n",
    "- pop：随机删除一个元素\n",
    "- remove：根据元素的值进行删除，discard功能与remove一样，但如果删除的值不存在不会报错"
   ]
  },
  {
   "cell_type": "code",
   "execution_count": null,
   "metadata": {},
   "outputs": [],
   "source": []
  }
 ],
 "metadata": {
  "kernelspec": {
   "display_name": "Python 3",
   "language": "python",
   "name": "python3"
  },
  "language_info": {
   "codemirror_mode": {
    "name": "ipython",
    "version": 3
   },
   "file_extension": ".py",
   "mimetype": "text/x-python",
   "name": "python",
   "nbconvert_exporter": "python",
   "pygments_lexer": "ipython3",
   "version": "3.7.0"
  }
 },
 "nbformat": 4,
 "nbformat_minor": 2
}
