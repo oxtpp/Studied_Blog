{
 "cells": [
  {
   "cell_type": "markdown",
   "metadata": {},
   "source": [
    "# OOP\n",
    "- 思想\n",
    "    - 以模块化思想解决工程问题\n",
    "\n",
    "- 常用名词\n",
    "    - oo :面向对象\n",
    "    - ooa ：分析\n",
    "    - ood：设计\n",
    "    - oop：编程\n",
    "    - ooI：实现\n",
    "    - ooa -> ood -> ooi\n",
    "\n",
    "- 定义类：class关键字\n",
    "- 类命名：\n",
    "    - 遵循大驼峰\n",
    "    - 第一个字母大写\n"
   ]
  },
  {
   "cell_type": "code",
   "execution_count": 1,
   "metadata": {},
   "outputs": [],
   "source": [
    "## 定义一个学生类，和几个学生\n",
    "\n",
    "class Student():\n",
    "    # 此处定义一个空类，pass关键字，表占位用\n",
    "    pass"
   ]
  },
  {
   "cell_type": "code",
   "execution_count": 2,
   "metadata": {},
   "outputs": [],
   "source": [
    "# 定义一个对象\n",
    "xbai = Student()"
   ]
  },
  {
   "cell_type": "code",
   "execution_count": 1,
   "metadata": {},
   "outputs": [
    {
     "name": "stdout",
     "output_type": "stream",
     "text": [
      "Nobody\n",
      "18\n",
      "pytho\n",
      "Show me the money\n"
     ]
    }
   ],
   "source": [
    "class PythonStudent():\n",
    "    name = \"Nobody\"\n",
    "    age = \"18\"\n",
    "    course = \"pytho\"\n",
    "    '''\n",
    "    定义类中的函数\n",
    "    一般需要有self关键字\n",
    "    其余跟普通函数基本相同\n",
    "    \n",
    "    '''\n",
    "    def giveMoney(self):\n",
    "        print(\"Show me the money\")\n",
    "        return None\n",
    "xiaobai = PythonStudent()\n",
    "print(xiaobai.name)\n",
    "print(xiaobai.age)\n",
    "print(xiaobai.course)\n",
    "xiaobai.giveMoney()"
   ]
  },
  {
   "cell_type": "markdown",
   "metadata": {},
   "source": [
    "# self\n",
    "    - self可以用别的名称代替,默认形参\n",
    "    - self不是关键字\n",
    "    - 作用是指代本身\n",
    "    "
   ]
  },
  {
   "cell_type": "markdown",
   "metadata": {},
   "source": [
    "# 访问类的属性\n",
    "- 在类里面如果强制访问类的属性，则需要使用_class_，（注意前后两个下划线,共4个下划线）\n",
    "- 类方法：定义类方法的时候，没有self参数"
   ]
  },
  {
   "cell_type": "code",
   "execution_count": 19,
   "metadata": {},
   "outputs": [],
   "source": [
    "# 注意类的定义\n",
    "class Student():\n",
    "    name = \"Noname\"\n",
    "    age = \"18\"\n",
    "    \n",
    "    def sayhi(self):\n",
    "        print(\"My name is {},i am {} years old\".format(self.name,self.age))\n",
    "        return None\n",
    "    \n",
    "    # sos是类的方法\n",
    "    # 访问类的变量，需用用到特殊方法\n",
    "    def sos():\n",
    "        # 访问类的内容，注意两种方法\n",
    "        print(\"My name is {},i am {} years old\".format(Student.name,__class__.age))\n",
    "        return None"
   ]
  },
  {
   "cell_type": "code",
   "execution_count": 18,
   "metadata": {},
   "outputs": [
    {
     "name": "stdout",
     "output_type": "stream",
     "text": [
      "My name is Noname,i am 18 years old\n",
      "My name is Noname,i am 18 years old\n"
     ]
    }
   ],
   "source": [
    "# 对象方法\n",
    "s = Student()\n",
    "s.sayhi()\n",
    "\n",
    "# 类内方法\n",
    "Student.sos()"
   ]
  },
  {
   "cell_type": "markdown",
   "metadata": {},
   "source": [
    "# 构造函数\n",
    "- 使用特殊名称和写法\n",
    "- 要求，第一参数必须要有，一般推荐self\n"
   ]
  },
  {
   "cell_type": "code",
   "execution_count": 21,
   "metadata": {},
   "outputs": [
    {
     "name": "stdout",
     "output_type": "stream",
     "text": [
      "我是构造函数\n"
     ]
    }
   ],
   "source": [
    "# 注意类的定义\n",
    "class Student():\n",
    "    name = \"Noname\"\n",
    "    age = \"18\"\n",
    "\n",
    "    # 构造函数名称固定，写法相对固定\n",
    "    def __init__(self):\n",
    "        print(\"我是构造函数\")\n",
    "    \n",
    "erjing = Student()\n"
   ]
  },
  {
   "cell_type": "markdown",
   "metadata": {},
   "source": [
    "# 面向对象的三大特征\n",
    "- 继承\n",
    "- 封装\n",
    "- 多态\n",
    "\n",
    "# 继承\n",
    "- 子类可以使用父类定义的内容或者行为等\n",
    "- 继承实现\n",
    "    - 父类，基类，超类：被继承的类，Base Class，Super Class\n",
    "    - 子类：有继承行为的类\n",
    "    - 所有类都有一个父类，如果不写，默认是object的子类"
   ]
  },
  {
   "cell_type": "code",
   "execution_count": 4,
   "metadata": {},
   "outputs": [
    {
     "name": "stdout",
     "output_type": "stream",
     "text": [
      "Noname\n"
     ]
    }
   ],
   "source": [
    "class Person():\n",
    "    name = \"Noname\"\n",
    "    age = 0\n",
    "    \n",
    "\n",
    "# 父类写在类定义的括号里\n",
    "class Teacher(Person):\n",
    "    pass\n",
    "\n",
    "t = Teacher()\n",
    "print(t.name)"
   ]
  },
  {
   "cell_type": "markdown",
   "metadata": {},
   "source": [
    "## issubclass检测是否是子类\n",
    "    - 可以用来检测两个类的父子关系\n",
    "    "
   ]
  },
  {
   "cell_type": "code",
   "execution_count": 9,
   "metadata": {},
   "outputs": [
    {
     "name": "stdout",
     "output_type": "stream",
     "text": [
      "True\n"
     ]
    }
   ],
   "source": [
    "# 利用刚才定义的Person和Teacher，检测父子关系\n",
    "print(issubclass(Teacher,Person))"
   ]
  },
  {
   "cell_type": "markdown",
   "metadata": {},
   "source": [
    "## 构造函数的继承\n",
    "    - 构造函数默认继承，子类如果没有构造函数，则自动调用父类的构造函数\n",
    "    - 一旦子类定义了构造函数，则不再自动调用父类构造函数\n",
    "    "
   ]
  },
  {
   "cell_type": "code",
   "execution_count": null,
   "metadata": {},
   "outputs": [],
   "source": []
  }
 ],
 "metadata": {
  "kernelspec": {
   "display_name": "Python 3",
   "language": "python",
   "name": "python3"
  },
  "language_info": {
   "codemirror_mode": {
    "name": "ipython",
    "version": 3
   },
   "file_extension": ".py",
   "mimetype": "text/x-python",
   "name": "python",
   "nbconvert_exporter": "python",
   "pygments_lexer": "ipython3",
   "version": "3.7.0"
  }
 },
 "nbformat": 4,
 "nbformat_minor": 2
}
