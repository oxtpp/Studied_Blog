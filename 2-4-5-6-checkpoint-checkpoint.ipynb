{
 "cells": [
  {
   "cell_type": "markdown",
   "metadata": {},
   "source": [
    "# 主要内容\n",
    "- 坚持写blog\n",
    "- 继续编辑"
   ]
  },
  {
   "cell_type": "code",
   "execution_count": 3,
   "metadata": {},
   "outputs": [
    {
     "name": "stdout",
     "output_type": "stream",
     "text": [
      "hello world\n",
      "[1, 2, 3, 4]\n"
     ]
    }
   ],
   "source": [
    "print(\"hello world\")\n",
    "a=[1,2,3,4]\n"
   ]
  },
  {
   "cell_type": "markdown",
   "metadata": {},
   "source": [
    "# Markdown模式\n",
    "- 命令模式 按Esc\n",
    "- 按M键\n",
    "- D,D删除多余行\n",
    "- shift+M合并行\n",
    "\n"
   ]
  },
  {
   "cell_type": "markdown",
   "metadata": {},
   "source": [
    "# python的数据类型\n",
    "- 数字 number\n",
    "    - python中数字类似的变量与位数无关\n",
    "    - 二进制0b开头，B为binary的缩写\n",
    "    - 八进制0o开头，O为octonary的缩写\n",
    "    - 十六进制0x开头，X为十六进制\n",
    "    - 虚数前加J/j表示，具体信息看百度\n",
    "    \n",
    "    \n",
    "- 字符 string\n",
    "- 队列 list\n",
    "- 元组 tuple\n",
    "- 字典 dict\n",
    "- 集合 set"
   ]
  },
  {
   "cell_type": "code",
   "execution_count": 4,
   "metadata": {},
   "outputs": [
    {
     "name": "stdout",
     "output_type": "stream",
     "text": [
      "0\n"
     ]
    }
   ],
   "source": [
    "a = 9 % -3\n",
    "print(a)"
   ]
  },
  {
   "cell_type": "code",
   "execution_count": null,
   "metadata": {},
   "outputs": [],
   "source": []
  }
 ],
 "metadata": {
  "kernelspec": {
   "display_name": "Python 3",
   "language": "python",
   "name": "python3"
  },
  "language_info": {
   "codemirror_mode": {
    "name": "ipython",
    "version": 3
   },
   "file_extension": ".py",
   "mimetype": "text/x-python",
   "name": "python",
   "nbconvert_exporter": "python",
   "pygments_lexer": "ipython3",
   "version": "3.7.0"
  }
 },
 "nbformat": 4,
 "nbformat_minor": 2
}
