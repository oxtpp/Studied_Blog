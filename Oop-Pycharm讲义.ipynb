{
 "cells": [
  {
   "cell_type": "markdown",
   "metadata": {},
   "source": [
    "# anaconda基本使用\n",
    "- anaconda主要是一个虚拟环境管理器\n",
    "- 还是一个安装包管理器\n",
    "- conda list ： 显示anaconda安装的包\n",
    "- conda env list : 显示anaconda的虚拟环境列表\n",
    "- conda create -n xxx python=3.6: 创建python版本为3.6的虚拟环境，名称为xxx\n",
    "- \n",
    "\n",
    "\n",
    "\n",
    "# 类的基本实现 \n",
    "- 可以用过默认内置变量检查类和对象的所有成员\n",
    "    - 对象所有成员检查\n",
    "        \n",
    "        # dict前后各两个下划线\n",
    "        obj.__dict__\n",
    "        \n",
    "    - 类所有的成员\n",
    "    \n",
    "        # dict前后各两个下划线\n",
    "        class_name.__dict__\n",
    "        \n",
    "\n",
    "# 类和对象的成员分析\n",
    "- 类和对象都可以存储成员，成员可以归类所有，也可以归对象所有\n",
    "- 类存储成员时使用的是与类关联的一个对象\n",
    "- 独享存储成员是存储在当前对象中\n",
    "- 对象访问一个成员是，如果对象中没有该成员，尝试访问类中的同名成员，如果对象中有此成员，一定使用对象中的成员\n",
    "- 创建对象时，类中的成员不会放入对象中，而是得到一个空对象，没有成员\n",
    "- 通过对象类中成员重新赋值，或者通过对象添加成员时，对应成员会保存在对象中，而不会修改类成员\n",
    "\n",
    "\n",
    "# 关于self\n",
    "- self在对象的方法中表示当前对象本身，如果通过对象调用一个方法，那么该对象会自动传入到当前方的第一个参数中\n",
    "- self并不是关键字，只是一个用于接受对象的普通参数，理论上可以通过任何一个普通变量名代替\n",
    "- 方法中有self形参的方法成为非绑定类的方法，可以通过对象访问，没有self的是绑定类的方法，只能通过类访问\n",
    "- 使用类访问绑定类的方法时，如果类方法中需要访问当前类的成员，可以通过__class__成员名来访问\n",
    "\n",
    "# 封装\n",
    "- public，protected，private不是关键字\n",
    "- 私有\n",
    "    - 私有成员是最高级别的封装，只能在当前类或对象中访问\n",
    "    - 在成员前面添加两个下划线即可\n",
    "    \n",
    "        class Person():\n",
    "            # name是共有的成员\n",
    "            name = \"liuying\"\n",
    "            \n",
    "            # __age就是私有成员\n",
    "            \n",
    "            __age = 18\n",
    "    - python的私有不是真私有，是一种成为屏蔽的改名策略\n",
    "    可以使用对象，_classname_attribute访问\n",
    "  \n",
    "- 受保护的封装 protected\n",
    "    - 受保护的封装是将对象成员进行一定级别的封装，在类中或者子类都可以进行访问，但是在外部\n",
    "    不可以\n",
    "    - 封装方法：在成员名称前面添加一个_下划线即可  "
   ]
  },
  {
   "cell_type": "markdown",
   "metadata": {
    "collapsed": true
   },
   "source": [
    "# 多态\n",
    "- 多态是一个对象在不同情况下，有不同的状态出现\n",
    "- 多态不是语法，是一种设计思想\n",
    "- 多态性：一种调用方式，不同的执行效果\n",
    "- 多态：同一事物的多种形态\n",
    "\n",
    "- Mixin设计模式，（掺入）\n",
    "    - 主要采用多继承方式对类的功能进行拓展\n",
    "    - 我们使用多继承语法来实现Mixin\n",
    "    - 使用Mixin实现多继承时候非常小心\n",
    "        - 首先他必须表示某一单一功能，而不是某个类\n",
    "        - 职责必须单一，如果有多个功能，则写多个Mixin\n",
    "        - Mixin不能依赖于子类的实现\n",
    "        - 子类即使没有继承这个Mixin类，也能正常工作，只是缺少某个功能\n",
    "    - 优点\n",
    "        - 使用Mixin可以在不对类进行任何修改的情况下，扩充功能\n",
    "        - 可以方便的组织和维护不同功能组件的划分\n",
    "        - 可以根据需要任意调整功能类的组合\n",
    "        - 可以避免创建很多新的类，导致类的继承混乱\n",
    "        - "
   ]
  },
  {
   "cell_type": "code",
   "execution_count": 3,
   "metadata": {},
   "outputs": [
    {
     "name": "stdout",
     "output_type": "stream",
     "text": [
      "teacher\n",
      "student\n",
      "(<class '__main__.Assistance'>, <class '__main__.Person'>, <class '__main__.TeacherMixin'>, <class '__main__.StudentMixin'>, <class 'object'>)\n",
      "{}\n",
      "{'__module__': '__main__', '__doc__': None}\n"
     ]
    }
   ],
   "source": [
    "class Person():\n",
    "    def eat():\n",
    "        print(\"eat meal\")\n",
    "    \n",
    "    def sleep():\n",
    "        print(\"sleep\")\n",
    "        \n",
    "    def fuck():\n",
    "        print(\"make\")\n",
    "\n",
    "class TeacherMixin():\n",
    "    print(\"teacher\")\n",
    "\n",
    "class StudentMixin():\n",
    "    print(\"student\")\n",
    "\n",
    "class Assistance(Person,TeacherMixin,StudentMixin):\n",
    "    pass\n",
    "\n",
    "print(Assistance.__mro__)\n",
    "tt =Assistance()\n",
    "print(tt.__dict__)\n",
    "print(Assistance.__dict__)"
   ]
  },
  {
   "cell_type": "markdown",
   "metadata": {},
   "source": [
    "# 类相关函数\n",
    "- isinstance:检测一个对象是否是一个类的实例\n",
    "- hasattr:检测一个对象是否有成员XXX\n",
    "- dir：获取对象的成员列表"
   ]
  },
  {
   "cell_type": "code",
   "execution_count": 8,
   "metadata": {},
   "outputs": [
    {
     "name": "stdout",
     "output_type": "stream",
     "text": [
      "True\n",
      "True\n",
      "['Method', '__class__', '__delattr__', '__dict__', '__dir__', '__doc__', '__eq__', '__format__', '__ge__', '__getattribute__', '__gt__', '__hash__', '__init__', '__init_subclass__', '__le__', '__lt__', '__module__', '__ne__', '__new__', '__reduce__', '__reduce_ex__', '__repr__', '__setattr__', '__sizeof__', '__str__', '__subclasshook__', '__weakref__', 'age']\n"
     ]
    }
   ],
   "source": [
    "class A():\n",
    "    age = 18\n",
    "    def Method():\n",
    "        print(\"Method\")\n",
    "a = A()\n",
    "print(isinstance(a,A))\n",
    "print(hasattr(a,\"Method\"))\n",
    "print(dir(A))"
   ]
  }
 ],
 "metadata": {
  "kernelspec": {
   "display_name": "Python 3",
   "language": "python",
   "name": "python3"
  },
  "language_info": {
   "codemirror_mode": {
    "name": "ipython",
    "version": 3
   },
   "file_extension": ".py",
   "mimetype": "text/x-python",
   "name": "python",
   "nbconvert_exporter": "python",
   "pygments_lexer": "ipython3",
   "version": "3.6.3"
  }
 },
 "nbformat": 4,
 "nbformat_minor": 2
}
