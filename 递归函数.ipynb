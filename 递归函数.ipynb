{
 "cells": [
  {
   "cell_type": "markdown",
   "metadata": {},
   "source": [
    "# 递归函数\n",
    "- 递归函数两个过程\n",
    "    - 向下调用，分解的过程\n",
    "    - 往上回溯，综合的过程\n",
    "- 递归需要注意\n",
    "    - 一定要有结束条件"
   ]
  },
  {
   "cell_type": "markdown",
   "metadata": {},
   "source": [
    "## 斐波那契数列\n",
    "    - f(n) = f(n-1) + f(n-2) , 必须 n >= 3\n",
    "    - {1，1，2，3，5，8}"
   ]
  },
  {
   "cell_type": "code",
   "execution_count": 1,
   "metadata": {},
   "outputs": [],
   "source": [
    "# 斐波那契数列\n",
    "def fib(n):\n",
    "    if n == 1 or n == 2:\n",
    "        return 1\n",
    "    return fib(n-1) + fib(n-2)\n",
    "rst = fib(10)\n",
    "print(\"rst = \",rst)\n",
    "        "
   ]
  },
  {
   "cell_type": "markdown",
   "metadata": {},
   "source": [
    "## 汉诺塔\n",
    "    - 1、hanno(A, C, B, n-1)  A塔上n-1盘子，借助C塔移动到B塔\n",
    "    - 2、A -- C  把A上最大号盘子移动到C上\n",
    "    - 3、hanno(B, A, C, n-1)  B塔上n-1盘子，借助A塔移动到C塔"
   ]
  },
  {
   "cell_type": "code",
   "execution_count": 11,
   "metadata": {},
   "outputs": [],
   "source": [
    "# 汉诺塔\n",
    "a = \"A\"\n",
    "b = \"B\"\n",
    "c = \"C\"\n",
    "def hano(a,b,c,n):\n",
    "    if n == 1:\n",
    "        print(\"{}--{}\".format(a,c))\n",
    "        return None\n",
    "    if n == 2:\n",
    "        print(\"{}--{}\".format(a,b))\n",
    "        print(\"{}--{}\".format(a,c))\n",
    "        print(\"{}--{}\".format(b,c))\n",
    "        return None\n",
    "    if n == 3:\n",
    "        hano(a,c,b,n-1)\n",
    "        print(\"{}--{}\".format(a,c))\n",
    "        hano(b,a,c,n-1)\n"
   ]
  },
  {
   "cell_type": "code",
   "execution_count": 13,
   "metadata": {},
   "outputs": [
    {
     "name": "stdout",
     "output_type": "stream",
     "text": [
      "A--B\n",
      "A--C\n",
      "B--C\n"
     ]
    }
   ],
   "source": [
    "hano(a,b,c,2)"
   ]
  }
 ],
 "metadata": {
  "kernelspec": {
   "display_name": "Python 3",
   "language": "python",
   "name": "python3"
  },
  "language_info": {
   "codemirror_mode": {
    "name": "ipython",
    "version": 3
   },
   "file_extension": ".py",
   "mimetype": "text/x-python",
   "name": "python",
   "nbconvert_exporter": "python",
   "pygments_lexer": "ipython3",
   "version": "3.7.0"
  }
 },
 "nbformat": 4,
 "nbformat_minor": 2
}
