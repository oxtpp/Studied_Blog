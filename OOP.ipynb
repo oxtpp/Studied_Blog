{
 "cells": [
  {
   "cell_type": "code",
   "execution_count": 11,
   "metadata": {},
   "outputs": [
    {
     "name": "stdout",
     "output_type": "stream",
     "text": [
      "{'__module__': '__main__', 'age': 18, 'name': None, 'fuck': <function P.fuck at 0x7f9c38f52950>, '__dict__': <attribute '__dict__' of 'P' objects>, '__weakref__': <attribute '__weakref__' of 'P' objects>, '__doc__': None}\n",
      "******************************\n"
     ]
    },
    {
     "data": {
      "text/plain": [
       "{'age': 16, 'name': 'er na'}"
      ]
     },
     "execution_count": 11,
     "metadata": {},
     "output_type": "execute_result"
    }
   ],
   "source": [
    "class P():\n",
    "    age = 18\n",
    "    name = None\n",
    "    def fuck():\n",
    "        print(\"fucking show\")\n",
    "        return None\n",
    "dana = P()\n",
    "print(P.__dict__)\n",
    "\n",
    "print(\"*\" * 30)\n",
    "\n",
    "dana.age = 16\n",
    "dana.name = \"er na\"\n",
    "dana.__dict__"
   ]
  },
  {
   "cell_type": "code",
   "execution_count": 34,
   "metadata": {},
   "outputs": [
    {
     "name": "stdout",
     "output_type": "stream",
     "text": [
      "meng yi 18,18\n",
      "10\n",
      "meng yi\n",
      "meng yi 18,18\n"
     ]
    }
   ],
   "source": [
    "class AB():\n",
    "    age = 10\n",
    "    name = \"meng yi\"\n",
    "    def fun(self): \n",
    "        self.name = \"meng yi 18\"\n",
    "        self.age = 18\n",
    "        print(\"{0},{1}\".format(self.name,self.age)) # 对象实例化后，方法里加入self后才能被对象访问\n",
    "    \n",
    "    def release():\n",
    "        print(__class__.age) # __class__用来访问类内绑定对象\n",
    "        print(__class__.name)\n",
    "    \n",
    "class CD():\n",
    "    age = 20\n",
    "    name = \"hua ju \"\n",
    "\n",
    "C = AB()\n",
    "C.fun()\n",
    "AB.release()\n",
    "AB.fun(AB)"
   ]
  },
  {
   "cell_type": "code",
   "execution_count": 3,
   "metadata": {},
   "outputs": [
    {
     "name": "stdout",
     "output_type": "stream",
     "text": [
      "hua ju\n",
      "{'__module__': '__main__', 'name': 'hua ju', '_qwe__age': 20, '__dict__': <attribute '__dict__' of 'qwe' objects>, '__weakref__': <attribute '__weakref__' of 'qwe' objects>, '__doc__': None}\n",
      "21\n"
     ]
    }
   ],
   "source": [
    "class qwe():\n",
    "    name = \"hua ju\"\n",
    "    __age = 20\n",
    "r = qwe \n",
    "print(r.name)\n",
    "\n",
    "# 查看私有参数\n",
    "print(qwe.__dict__)\n",
    "r._qwe__age = 21\n",
    "print(r._qwe__age)"
   ]
  },
  {
   "cell_type": "code",
   "execution_count": null,
   "metadata": {
    "collapsed": true
   },
   "outputs": [],
   "source": []
  }
 ],
 "metadata": {
  "kernelspec": {
   "display_name": "Python 3",
   "language": "python",
   "name": "python3"
  },
  "language_info": {
   "codemirror_mode": {
    "name": "ipython",
    "version": 3
   },
   "file_extension": ".py",
   "mimetype": "text/x-python",
   "name": "python",
   "nbconvert_exporter": "python",
   "pygments_lexer": "ipython3",
   "version": "3.6.3"
  }
 },
 "nbformat": 4,
 "nbformat_minor": 2
}
