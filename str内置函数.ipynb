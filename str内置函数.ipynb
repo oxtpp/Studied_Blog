{
 "cells": [
  {
   "cell_type": "markdown",
   "metadata": {},
   "source": [
    "# str内置函数\n",
    "- 字符串查找类，find，index，islower\n",
    "- find: 查找字符串中是否包含一个子串\n",
    "- r表示右，l表示左"
   ]
  },
  {
   "cell_type": "code",
   "execution_count": 34,
   "metadata": {},
   "outputs": [
    {
     "data": {
      "text/plain": [
       "4"
      ]
     },
     "execution_count": 34,
     "metadata": {},
     "output_type": "execute_result"
    }
   ],
   "source": [
    "s = \"oxt love huaju\"\n",
    "s1 = \"love\"\n",
    "# 返回第一次发现这个字符串的位置\n",
    "s.find(s1)\n",
    "\n",
    "# 返回-1表示没找到\n",
    "s2 = \"mengyi\"\n",
    "s.rfind(s1)"
   ]
  },
  {
   "cell_type": "code",
   "execution_count": 16,
   "metadata": {},
   "outputs": [
    {
     "ename": "ValueError",
     "evalue": "substring not found",
     "output_type": "error",
     "traceback": [
      "\u001b[1;31m---------------------------------------------------------------------------\u001b[0m",
      "\u001b[1;31mValueError\u001b[0m                                Traceback (most recent call last)",
      "\u001b[1;32m<ipython-input-16-ec9047af1828>\u001b[0m in \u001b[0;36m<module>\u001b[1;34m()\u001b[0m\n\u001b[0;32m      1\u001b[0m \u001b[1;31m# index功能跟find一样，区别在于没找到值时，会报错或引发异常\u001b[0m\u001b[1;33m\u001b[0m\u001b[1;33m\u001b[0m\u001b[0m\n\u001b[1;32m----> 2\u001b[1;33m \u001b[0ms\u001b[0m\u001b[1;33m.\u001b[0m\u001b[0mindex\u001b[0m\u001b[1;33m(\u001b[0m\u001b[0ms2\u001b[0m\u001b[1;33m)\u001b[0m\u001b[1;33m\u001b[0m\u001b[0m\n\u001b[0m",
      "\u001b[1;31mValueError\u001b[0m: substring not found"
     ]
    }
   ],
   "source": [
    "# index功能跟find一样，区别在于没找到值时，会报错或引发异常\n",
    "s.index(s2)"
   ]
  },
  {
   "cell_type": "markdown",
   "metadata": {},
   "source": [
    "### 判断类函数\n",
    "- 此类函数一般用is开头，比如islower\n",
    "- isalpha: 判断是否是字母，需要注意两点\n",
    "    - 此函数默认的前提是字符串至少包含一个字符，如果没有，同样返回False\n",
    "    - 汉字被认为是alpha，所以此函数不能用来区分中英文，区分中英文请使用unicode码\n",
    "- isdigit, isnumeric, isdecimal三个判断数字的函数\n",
    "    \n",
    "    - 此类函数不建议使用，在爬虫中，判断是否是数字建议采用正则表达式的方式\n",
    "        对三个函数的一个总结就是：\n",
    "        digit：\n",
    "            True: Unicode数字， byte数字（单字节），全角数字（双字节），罗马数字\n",
    "            False: 汉字数字\n",
    "            Error: 无\n",
    "         \n",
    "         isdecimal：\n",
    "         True： Unicode数字，全角数字（双字节）\n",
    "         False：罗马数字， 汉字数字\n",
    "         Error：无\n",
    "         \n",
    "         isnumeric：\n",
    "         True：Unicode数字， 汉字数字，全角数字（双字节），罗马数字\n",
    "         False：无\n",
    "         Error：byte（单字节）\n",
    "  "
   ]
  },
  {
   "cell_type": "code",
   "execution_count": 2,
   "metadata": {},
   "outputs": [
    {
     "name": "stdout",
     "output_type": "stream",
     "text": [
      "Help on method_descriptor:\n",
      "\n",
      "strip(self, chars=None, /)\n",
      "    Return a copy of the string with leading and trailing whitespace remove.\n",
      "    \n",
      "    If chars is given and not None, remove characters in chars instead.\n",
      "\n"
     ]
    }
   ],
   "source": [
    "help(str.strip)"
   ]
  },
  {
   "cell_type": "code",
   "execution_count": null,
   "metadata": {},
   "outputs": [],
   "source": []
  }
 ],
 "metadata": {
  "kernelspec": {
   "display_name": "Python 3",
   "language": "python",
   "name": "python3"
  },
  "language_info": {
   "codemirror_mode": {
    "name": "ipython",
    "version": 3
   },
   "file_extension": ".py",
   "mimetype": "text/x-python",
   "name": "python",
   "nbconvert_exporter": "python",
   "pygments_lexer": "ipython3",
   "version": "3.7.0"
  }
 },
 "nbformat": 4,
 "nbformat_minor": 2
}
