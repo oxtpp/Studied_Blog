{
 "cells": [
  {
   "cell_type": "code",
   "execution_count": 9,
   "metadata": {},
   "outputs": [
    {
     "name": "stdout",
     "output_type": "stream",
     "text": [
      "my info is 19 and name is Noname\n"
     ]
    }
   ],
   "source": [
    "# 继承的语法\n",
    "class Person():\n",
    "    def __init__(self,age):\n",
    "        \n",
    "        self.age = age\n",
    "        self.name = \"Noname\"\n",
    "        print(\"my info is {0} and name is {1}\".format(self.age,self.name))\n",
    "    def sleeping(self):\n",
    "        print(\"shui jiao\")\n",
    "a = 19\n",
    "p = Person(a)"
   ]
  },
  {
   "cell_type": "markdown",
   "metadata": {},
   "source": [
    "# super\n",
    "    - super不是关键字，而是一个类\n",
    "    - super的作用是获取列表中的第一个类\n",
    "    - 通过super可以调用到父类\n",
    "    - super使用的两个方法，参见构造函数中调用父类的构造函数"
   ]
  },
  {
   "cell_type": "code",
   "execution_count": 29,
   "metadata": {},
   "outputs": [
    {
     "name": "stdout",
     "output_type": "stream",
     "text": [
      "my info is 20 and name is Noname\n",
      "1\n",
      "shui jiao\n",
      "make some money\n",
      "shui jiao\n"
     ]
    }
   ],
   "source": [
    "class Teacher(Person):\n",
    "    def __init__(self,age,f):\n",
    "        super().__init__(age)\n",
    "        print(\"{0}\".format(f))\n",
    "    \n",
    "    def work(self):\n",
    "        print(\"make some money\")\n",
    "    \n",
    "    def sleeping(self):\n",
    "        # 扩充父类的功能只需要调用父类相对应的函数\n",
    "        # Person.sleeping(self)\n",
    "        # 扩充父类的另一种方法，super代表得到父类\n",
    "        super().sleeping() # 调用父类方法一\n",
    "        self.work()\n",
    "        Person.sleeping(self) # 调用父类方法二\n",
    "a = 20\n",
    "name = \"Teacher\"\n",
    "f = 1\n",
    "t = Teacher(a,f)\n",
    "t.sleeping()"
   ]
  },
  {
   "cell_type": "code",
   "execution_count": 23,
   "metadata": {},
   "outputs": [
    {
     "name": "stdout",
     "output_type": "stream",
     "text": [
      "i am init in dog\n",
      "dog's hua ju\n"
     ]
    }
   ],
   "source": [
    "# 构造函数的概念\n",
    "\n",
    "class Dog():\n",
    "    # __init__前后双下划线的就是构造函数\n",
    "    def __init__(self): # 构造函数的第一个参数，一定是self\n",
    "        print(\"i am init in dog\")\n",
    "\n",
    "kaka = Dog()\n",
    "\n",
    "# 构造函数的参数\n",
    "class HuadianDog(Dog):\n",
    "    def __init__(self,name):\n",
    "        print(\"dog's {0}\".format(name))\n",
    "huaju = \"hua ju\"\n",
    "kb = HuadianDog(huaju)"
   ]
  }
 ],
 "metadata": {
  "kernelspec": {
   "display_name": "Python 3",
   "language": "python",
   "name": "python3"
  },
  "language_info": {
   "codemirror_mode": {
    "name": "ipython",
    "version": 3
   },
   "file_extension": ".py",
   "mimetype": "text/x-python",
   "name": "python",
   "nbconvert_exporter": "python",
   "pygments_lexer": "ipython3",
   "version": "3.6.3"
  }
 },
 "nbformat": 4,
 "nbformat_minor": 2
}
