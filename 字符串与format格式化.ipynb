{
 "cells": [
  {
   "cell_type": "markdown",
   "metadata": {},
   "source": [
    "# 字符串str\n",
    "- 转义字符\n",
    "- 格式化\n",
    "- 内建函数\n"
   ]
  },
  {
   "cell_type": "markdown",
   "metadata": {},
   "source": [
    "# 转义字符\n",
    "- 在字符串中，一旦出现反斜杠就要加倍小心，可能有转义字符出现\n",
    "- 不同系统对换行操作有不同的表示，其余的转义字符大部分一样\n",
    "    - windows: \\n\n",
    "    - linux: \\r\\n"
   ]
  },
  {
   "cell_type": "code",
   "execution_count": 9,
   "metadata": {},
   "outputs": [
    {
     "name": "stdout",
     "output_type": "stream",
     "text": [
      "1 2 3\n"
     ]
    }
   ],
   "source": [
    "# 单个 \\ 斜杠的用法,在行尾时,等于续行符\n",
    "# 在python中，单个反斜杠表示此行未结束，出于美观，需要下行继续\n",
    "# 理论上应该写成def myDemo(x, y, z)\n",
    "def myDemo(x,\\\n",
    "           y,\\\n",
    "           z):\n",
    "    print(x, y, z)\n",
    "myDemo(1,2,3)"
   ]
  },
  {
   "cell_type": "markdown",
   "metadata": {},
   "source": [
    "# 格式化\n",
    "\n",
    "# 字符串的传统格式化方法\n",
    "- 使用%进行格式化\n",
    "- %百分号，也叫占位符\n",
    "    - %s： 字符串\n",
    "    - %c： 整数互转为单个字符\n",
    "    - %d： 十进制整数\n",
    "    - 具体更多自行查询\n",
    "    "
   ]
  },
  {
   "cell_type": "code",
   "execution_count": 7,
   "metadata": {},
   "outputs": [
    {
     "name": "stdout",
     "output_type": "stream",
     "text": [
      "l love 华菊 and 梦怡\n",
      "i love 100\n"
     ]
    }
   ],
   "source": [
    "print(\"l love %s and %s\"%(\"华菊\",\"梦怡\"))\n",
    "# 占位符一般只能被同类型替换，或者替换类型能被转换成占位符的类型\n",
    "# 一下案例属于特例\n",
    "print(\"i love %s\"%100)"
   ]
  },
  {
   "cell_type": "markdown",
   "metadata": {},
   "source": [
    "# format格式化\n",
    "    - 使用函数形式进行格式化，代替以前的百分号\n",
    "    "
   ]
  },
  {
   "cell_type": "code",
   "execution_count": 12,
   "metadata": {},
   "outputs": [
    {
     "name": "stdout",
     "output_type": "stream",
     "text": [
      "Hello World !\n",
      "Hello World !\n",
      "World Hello !\n"
     ]
    }
   ],
   "source": [
    "# 不用指定位置，按顺序读取\n",
    "# 方式1\n",
    "s = \"{} {} !\"\n",
    "print(s.format(\"Hello\", \"World\"))\n",
    "\n",
    "# 方式2\n",
    "s = \"{} {} !\".format(\"Hello\", \"World\")\n",
    "print(s) #相当于直接打印 “hello world”\n",
    "\n",
    "# 设置指定位置\n",
    "s = \"{1} {0} !\".format(\"Hello\", \"World\")\n",
    "print(s)"
   ]
  },
  {
   "cell_type": "code",
   "execution_count": 14,
   "metadata": {},
   "outputs": [
    {
     "name": "stdout",
     "output_type": "stream",
     "text": [
      "我在学习的Python， 我的目的是sex_web\n"
     ]
    }
   ],
   "source": [
    "# 通过字典设置参数，需要解包\n",
    "# 使用命名参数\n",
    "s = \"我在学习的{language}， 我的目的是{build_web}\"\n",
    "\n",
    "s_dict = {\"language\":\"Python\", \"build_web\":\"sex_web\"}\n",
    "# **是解包操作，后面会讲到\n",
    "s = s.format(**s_dict)\n",
    "print(s)"
   ]
  },
  {
   "cell_type": "code",
   "execution_count": 19,
   "metadata": {},
   "outputs": [
    {
     "name": "stdout",
     "output_type": "stream",
     "text": [
      "oxt his weight is 1.78KG, his height is 74.00m\n"
     ]
    }
   ],
   "source": [
    "# 对于数字的格式化需要用到\n",
    "s = \"oxt his weight is {:.2f}KG, his height is {:.2f}m\"\n",
    "print(s.format(1.78,74.0))"
   ]
  }
 ],
 "metadata": {
  "kernelspec": {
   "display_name": "Python 3",
   "language": "python",
   "name": "python3"
  },
  "language_info": {
   "codemirror_mode": {
    "name": "ipython",
    "version": 3
   },
   "file_extension": ".py",
   "mimetype": "text/x-python",
   "name": "python",
   "nbconvert_exporter": "python",
   "pygments_lexer": "ipython3",
   "version": "3.7.0"
  }
 },
 "nbformat": 4,
 "nbformat_minor": 2
}
